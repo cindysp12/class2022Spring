{
  "nbformat": 4,
  "nbformat_minor": 0,
  "metadata": {
    "colab": {
      "name": "20220316.ipynb",
      "provenance": [],
      "collapsed_sections": [
        "TpN0ApUm0377",
        "WS7Ve3Is07h4",
        "3xG5eYKs2zkh",
        "W7_MjCav2pDz",
        "YDC9JyrJ59Mv",
        "UsXgbvIK6PiC",
        "hmO-kfMzIueU",
        "PCv8scWVKvf2",
        "-nA6OdwFLo3y"
      ],
      "authorship_tag": "ABX9TyNnfFCx0lrmrdZINgepGIUA",
      "include_colab_link": true
    },
    "kernelspec": {
      "name": "python3",
      "display_name": "Python 3"
    },
    "language_info": {
      "name": "python"
    }
  },
  "cells": [
    {
      "cell_type": "markdown",
      "metadata": {
        "id": "view-in-github",
        "colab_type": "text"
      },
      "source": [
        "<a href=\"https://colab.research.google.com/github/cindysp12/class2022Spring/blob/main/20220316.ipynb\" target=\"_parent\"><img src=\"https://colab.research.google.com/assets/colab-badge.svg\" alt=\"Open In Colab\"/></a>"
      ]
    },
    {
      "cell_type": "markdown",
      "source": [
        "# **variables**"
      ],
      "metadata": {
        "id": "TpN0ApUm0377"
      }
    },
    {
      "cell_type": "markdown",
      "source": [
        "\n",
        "변수는 숫자/문자/list=tuple/dict\n"
      ],
      "metadata": {
        "id": "ueBv-FcGoO9b"
      }
    },
    {
      "cell_type": "code",
      "metadata": {
        "id": "goAyoU7vRheI",
        "outputId": "c80064e8-9388-41a5-91b6-ebb2dfc6b600",
        "colab": {
          "base_uri": "https://localhost:8080/"
        }
      },
      "source": [
        "a = 1; print(type(a))"
      ],
      "execution_count": null,
      "outputs": [
        {
          "output_type": "stream",
          "name": "stdout",
          "text": [
            "<class 'int'>\n"
          ]
        }
      ]
    },
    {
      "cell_type": "code",
      "source": [
        "print(a)"
      ],
      "metadata": {
        "id": "U1W-uiVEmSO7",
        "outputId": "b11d8fe9-6573-42c7-8467-adb923581b78",
        "colab": {
          "base_uri": "https://localhost:8080/"
        }
      },
      "execution_count": null,
      "outputs": [
        {
          "output_type": "stream",
          "name": "stdout",
          "text": [
            "1\n"
          ]
        }
      ]
    },
    {
      "cell_type": "markdown",
      "source": [
        "print: a 속 내용을 보여줌"
      ],
      "metadata": {
        "id": "jXgCPXYgm7S6"
      }
    },
    {
      "cell_type": "code",
      "source": [
        "b = 3"
      ],
      "metadata": {
        "id": "2TR4MomumeHk"
      },
      "execution_count": null,
      "outputs": []
    },
    {
      "cell_type": "code",
      "source": [
        "print(b)"
      ],
      "metadata": {
        "id": "l6HMr9ysmvbZ",
        "outputId": "6a06c47f-1c01-48ac-d150-2c2a11b12562",
        "colab": {
          "base_uri": "https://localhost:8080/"
        }
      },
      "execution_count": null,
      "outputs": [
        {
          "output_type": "stream",
          "name": "stdout",
          "text": [
            "3\n"
          ]
        }
      ]
    },
    {
      "cell_type": "code",
      "source": [
        "type(b)"
      ],
      "metadata": {
        "id": "aO7jt9h7mzxz",
        "outputId": "e61484b7-f77e-4e14-c1fc-086d1d0e9c8c",
        "colab": {
          "base_uri": "https://localhost:8080/"
        }
      },
      "execution_count": null,
      "outputs": [
        {
          "output_type": "execute_result",
          "data": {
            "text/plain": [
              "int"
            ]
          },
          "metadata": {},
          "execution_count": 5
        }
      ]
    },
    {
      "cell_type": "markdown",
      "source": [
        "type: 숫자"
      ],
      "metadata": {
        "id": "xA47UmhMm3AI"
      }
    },
    {
      "cell_type": "code",
      "metadata": {
        "id": "txxnoqJuRheJ",
        "outputId": "68d63f18-c4d9-4b58-f54a-ea335f122903",
        "colab": {
          "base_uri": "https://localhost:8080/"
        }
      },
      "source": [
        "a = 1.1; print(type(a))"
      ],
      "execution_count": null,
      "outputs": [
        {
          "output_type": "stream",
          "name": "stdout",
          "text": [
            "<class 'float'>\n"
          ]
        }
      ]
    },
    {
      "cell_type": "markdown",
      "source": [
        "float: 실수\\\n",
        "int: 정수\\\n",
        "1.0은 실수 (1과 다름)\\\n",
        "value는 변수가 갖고 있는 content"
      ],
      "metadata": {
        "id": "Z1S83Ay1nkyI"
      }
    },
    {
      "cell_type": "code",
      "metadata": {
        "id": "SyP0PB86RheL",
        "outputId": "6f9e2cc7-0e93-47ee-ecae-5898cda5865e",
        "colab": {
          "base_uri": "https://localhost:8080/"
        }
      },
      "source": [
        "a = '123'; print(type(a)); print(a[1])"
      ],
      "execution_count": null,
      "outputs": [
        {
          "output_type": "stream",
          "name": "stdout",
          "text": [
            "<class 'str'>\n",
            "2\n"
          ]
        }
      ]
    },
    {
      "cell_type": "markdown",
      "source": [
        "string: quote나 double quote"
      ],
      "metadata": {
        "id": "0osOSzGUn_Hg"
      }
    },
    {
      "cell_type": "code",
      "metadata": {
        "id": "EKYj0dvIHPo0",
        "outputId": "059b435f-2081-46bb-f61d-47a05f716b8d",
        "colab": {
          "base_uri": "https://localhost:8080/"
        }
      },
      "source": [
        "a = 'hello'; print(type(a)); print(a[1])"
      ],
      "execution_count": null,
      "outputs": [
        {
          "output_type": "stream",
          "name": "stdout",
          "text": [
            "<class 'str'>\n",
            "e\n"
          ]
        }
      ]
    },
    {
      "cell_type": "code",
      "metadata": {
        "id": "Df6PhU-tHXr2",
        "outputId": "8abf9faa-627e-45d2-b45a-ed1a836d73a5",
        "colab": {
          "base_uri": "https://localhost:8080/"
        }
      },
      "source": [
        "a = [1, 2, 3, 4,5,6,7,8,9,10]; print(type(a)); print(a[0])"
      ],
      "execution_count": null,
      "outputs": [
        {
          "output_type": "stream",
          "name": "stdout",
          "text": [
            "<class 'list'>\n",
            "1\n"
          ]
        }
      ]
    },
    {
      "cell_type": "markdown",
      "source": [
        "list: 대괄호 comma"
      ],
      "metadata": {
        "id": "yDfcVdFBoMU0"
      }
    },
    {
      "cell_type": "code",
      "source": [
        "a[0]"
      ],
      "metadata": {
        "id": "xNldYgypowHB",
        "outputId": "1c4801bb-84b1-4974-c789-ff7b07c7e63c",
        "colab": {
          "base_uri": "https://localhost:8080/"
        }
      },
      "execution_count": null,
      "outputs": [
        {
          "output_type": "execute_result",
          "data": {
            "text/plain": [
              "1"
            ]
          },
          "metadata": {},
          "execution_count": 10
        }
      ]
    },
    {
      "cell_type": "markdown",
      "source": [
        "index: a의 0번째\\\n",
        "가장 마지막 줄은 print를 안 해도 print 되어 나옴"
      ],
      "metadata": {
        "id": "BFgXKNUuo3q-"
      }
    },
    {
      "cell_type": "code",
      "source": [
        "a[1:3]"
      ],
      "metadata": {
        "id": "YraEkJAlpQB3",
        "outputId": "7f89b7cd-fa15-4902-cbfc-110a72500a02",
        "colab": {
          "base_uri": "https://localhost:8080/"
        }
      },
      "execution_count": null,
      "outputs": [
        {
          "output_type": "execute_result",
          "data": {
            "text/plain": [
              "[2, 3]"
            ]
          },
          "metadata": {},
          "execution_count": 11
        }
      ]
    },
    {
      "cell_type": "markdown",
      "source": [
        "뒤의 숫자는 포함하지 않음\\\n",
        "첫 번째 두 번째를 포함하고 싶으면 1:3이라고 적어야 함"
      ],
      "metadata": {
        "id": "mOFBOAvSpWLe"
      }
    },
    {
      "cell_type": "code",
      "source": [
        "a[:]"
      ],
      "metadata": {
        "id": "dyABlZLLpeE8",
        "outputId": "854b987d-b4ea-4adc-8ec1-af1d0d4b0c66",
        "colab": {
          "base_uri": "https://localhost:8080/"
        }
      },
      "execution_count": null,
      "outputs": [
        {
          "output_type": "execute_result",
          "data": {
            "text/plain": [
              "[1, 2, 3, 4, 5, 6, 7, 8, 9, 10]"
            ]
          },
          "metadata": {},
          "execution_count": 12
        }
      ]
    },
    {
      "cell_type": "code",
      "source": [
        "a[2:-1]"
      ],
      "metadata": {
        "id": "pgoUlG9Ipo7A",
        "outputId": "9896088c-cac9-453c-89a2-fc76d9466fe6",
        "colab": {
          "base_uri": "https://localhost:8080/"
        }
      },
      "execution_count": null,
      "outputs": [
        {
          "output_type": "execute_result",
          "data": {
            "text/plain": [
              "[3, 4, 5, 6, 7, 8, 9]"
            ]
          },
          "metadata": {},
          "execution_count": 13
        }
      ]
    },
    {
      "cell_type": "code",
      "metadata": {
        "id": "DfS-gknCRheL",
        "outputId": "b6b63858-ec14-406c-c07a-cf62471a1dc7",
        "colab": {
          "base_uri": "https://localhost:8080/"
        }
      },
      "source": [
        "a = [1,'a', [3, '4']]; print(type(a)); print(a[0]); print(a[1]); print(a[2]); print(a[2][1])"
      ],
      "execution_count": null,
      "outputs": [
        {
          "output_type": "stream",
          "name": "stdout",
          "text": [
            "<class 'list'>\n",
            "1\n",
            "a\n",
            "[3, '4']\n",
            "4\n"
          ]
        }
      ]
    },
    {
      "cell_type": "markdown",
      "source": [
        "list 안에 list가 들어있음"
      ],
      "metadata": {
        "id": "6LI-BXOFojG1"
      }
    },
    {
      "cell_type": "code",
      "source": [
        "a[2][0]"
      ],
      "metadata": {
        "id": "5tFYOvDytTVg",
        "outputId": "25accb80-8498-48d8-8be4-e3991bbbf6dd",
        "colab": {
          "base_uri": "https://localhost:8080/"
        }
      },
      "execution_count": null,
      "outputs": [
        {
          "output_type": "execute_result",
          "data": {
            "text/plain": [
              "3"
            ]
          },
          "metadata": {},
          "execution_count": 15
        }
      ]
    },
    {
      "cell_type": "markdown",
      "source": [
        "index 안의 index"
      ],
      "metadata": {
        "id": "9LawEwj1tdju"
      }
    },
    {
      "cell_type": "code",
      "source": [
        "a='abcdef123'"
      ],
      "metadata": {
        "id": "XSfNePZFtn4E"
      },
      "execution_count": null,
      "outputs": []
    },
    {
      "cell_type": "code",
      "source": [
        "type(a)"
      ],
      "metadata": {
        "id": "kT9AVUVXtsV3",
        "outputId": "25b2ae58-0b43-4630-a679-08311f7c72e1",
        "colab": {
          "base_uri": "https://localhost:8080/"
        }
      },
      "execution_count": null,
      "outputs": [
        {
          "output_type": "execute_result",
          "data": {
            "text/plain": [
              "str"
            ]
          },
          "metadata": {},
          "execution_count": 17
        }
      ]
    },
    {
      "cell_type": "code",
      "source": [
        "a[:3]"
      ],
      "metadata": {
        "id": "SsMqVHK7tudT",
        "outputId": "1cc98071-dc31-4f68-b1ab-04b4fea648a8",
        "colab": {
          "base_uri": "https://localhost:8080/",
          "height": 35
        }
      },
      "execution_count": null,
      "outputs": [
        {
          "output_type": "execute_result",
          "data": {
            "text/plain": [
              "'abc'"
            ],
            "application/vnd.google.colaboratory.intrinsic+json": {
              "type": "string"
            }
          },
          "metadata": {},
          "execution_count": 18
        }
      ]
    },
    {
      "cell_type": "markdown",
      "source": [
        "string 안에서 indexing"
      ],
      "metadata": {
        "id": "TYrB6ePjt2Dm"
      }
    },
    {
      "cell_type": "code",
      "source": [
        "a=(1,2,3)"
      ],
      "metadata": {
        "id": "Kx7uLqzcuKWX"
      },
      "execution_count": null,
      "outputs": []
    },
    {
      "cell_type": "code",
      "source": [
        "a[1]=0"
      ],
      "metadata": {
        "id": "u2oTxSDluMmd",
        "outputId": "72ef64d2-89a4-4d18-f017-3c1e4e47ab3e",
        "colab": {
          "base_uri": "https://localhost:8080/",
          "height": 172
        }
      },
      "execution_count": null,
      "outputs": [
        {
          "output_type": "error",
          "ename": "TypeError",
          "evalue": "ignored",
          "traceback": [
            "\u001b[0;31m---------------------------------------------------------------------------\u001b[0m",
            "\u001b[0;31mTypeError\u001b[0m                                 Traceback (most recent call last)",
            "\u001b[0;32m<ipython-input-21-2226a346ff5c>\u001b[0m in \u001b[0;36m<module>\u001b[0;34m()\u001b[0m\n\u001b[0;32m----> 1\u001b[0;31m \u001b[0ma\u001b[0m\u001b[0;34m[\u001b[0m\u001b[0;36m1\u001b[0m\u001b[0;34m]\u001b[0m\u001b[0;34m=\u001b[0m\u001b[0;36m0\u001b[0m\u001b[0;34m\u001b[0m\u001b[0;34m\u001b[0m\u001b[0m\n\u001b[0m",
            "\u001b[0;31mTypeError\u001b[0m: 'tuple' object does not support item assignment"
          ]
        }
      ]
    },
    {
      "cell_type": "markdown",
      "source": [
        "tuple은 내부 아이템을 assign할 수 없음\\\n",
        "중요 아이템을 지우는 걸 방지할 수 있음"
      ],
      "metadata": {
        "id": "Z4oxC_ODuUd1"
      }
    },
    {
      "cell_type": "code",
      "metadata": {
        "id": "2sivfloGRheM"
      },
      "source": [
        "a =\t{\"aa\": \"apple\", \"b\": \"orange\", \"c\": 2014, 123: \"pineapple\"}"
      ],
      "execution_count": null,
      "outputs": []
    },
    {
      "cell_type": "code",
      "source": [
        "a[\"aa\"]"
      ],
      "metadata": {
        "id": "yDprMUbKu0ZM",
        "outputId": "8a5e7ff9-56d2-4042-a610-682410ecf1e9",
        "colab": {
          "base_uri": "https://localhost:8080/",
          "height": 35
        }
      },
      "execution_count": null,
      "outputs": [
        {
          "output_type": "execute_result",
          "data": {
            "text/plain": [
              "'apple'"
            ],
            "application/vnd.google.colaboratory.intrinsic+json": {
              "type": "string"
            }
          },
          "metadata": {},
          "execution_count": 23
        }
      ]
    },
    {
      "cell_type": "code",
      "source": [
        "a[123]"
      ],
      "metadata": {
        "id": "_QG5WUq3vJV0",
        "outputId": "58d433e4-66f4-4aa0-b15c-42973980f849",
        "colab": {
          "base_uri": "https://localhost:8080/",
          "height": 35
        }
      },
      "execution_count": null,
      "outputs": [
        {
          "output_type": "execute_result",
          "data": {
            "text/plain": [
              "'pineapple'"
            ],
            "application/vnd.google.colaboratory.intrinsic+json": {
              "type": "string"
            }
          },
          "metadata": {},
          "execution_count": 24
        }
      ]
    },
    {
      "cell_type": "code",
      "source": [
        "print(type(a));print(type(b))"
      ],
      "metadata": {
        "id": "HMnfeNvuvl8K",
        "outputId": "ddbb0a35-96cf-46be-fbe3-6db5a0a33f51",
        "colab": {
          "base_uri": "https://localhost:8080/"
        }
      },
      "execution_count": null,
      "outputs": [
        {
          "output_type": "stream",
          "name": "stdout",
          "text": [
            "<class 'dict'>\n",
            "<class 'int'>\n"
          ]
        }
      ]
    },
    {
      "cell_type": "markdown",
      "source": [
        "# **string**"
      ],
      "metadata": {
        "id": "WS7Ve3Is07h4"
      }
    },
    {
      "cell_type": "code",
      "metadata": {
        "id": "zwpWU02YmAur",
        "outputId": "cfee54ae-07dd-4f91-8b09-cb065fb2f8bb",
        "colab": {
          "base_uri": "https://localhost:8080/"
        }
      },
      "source": [
        "s = 'abcdef'\n",
        "print(s[0], s[5], s[-1], s[-6])\n",
        "print(s[1:3], s[1:], s[:3], s[:])"
      ],
      "execution_count": null,
      "outputs": [
        {
          "output_type": "stream",
          "name": "stdout",
          "text": [
            "a f f a\n",
            "bc bcdef abc abcdef\n"
          ]
        }
      ]
    },
    {
      "cell_type": "markdown",
      "source": [
        "1:3은 1은 포함 3은 포함하지 않음\\\n",
        "왼쪽은 포함 오른쪽은 포함하지 않음 콜론만 있으면 전부"
      ],
      "metadata": {
        "id": "1nihyj3Q2aYc"
      }
    },
    {
      "cell_type": "code",
      "metadata": {
        "id": "mpkdZBeWmAux",
        "outputId": "a6c915c3-8b37-4b02-aba5-d3d25c44f2b7",
        "colab": {
          "base_uri": "https://localhost:8080/"
        }
      },
      "source": [
        "n = [100, 200, 300]\n",
        "print(n[0], n[2], n[-1], n[-3])\n",
        "print(n[1:2], n[1:], n[:2], n[:])"
      ],
      "execution_count": null,
      "outputs": [
        {
          "output_type": "stream",
          "name": "stdout",
          "text": [
            "100 300 300 100\n",
            "[200] [200, 300] [100, 200] [100, 200, 300]\n"
          ]
        }
      ]
    },
    {
      "cell_type": "markdown",
      "source": [
        "built-in function: 내장이 되어있는 함수\\\n",
        "print 함수가 내장되어 있음"
      ],
      "metadata": {
        "id": "_Uz9qDNg3OvR"
      }
    },
    {
      "cell_type": "code",
      "metadata": {
        "id": "ulnefmnFmAuy",
        "outputId": "0c0d2f3e-5847-48c1-b722-e00b230ac357",
        "colab": {
          "base_uri": "https://localhost:8080/"
        }
      },
      "source": [
        "len(s)"
      ],
      "execution_count": null,
      "outputs": [
        {
          "output_type": "execute_result",
          "data": {
            "text/plain": [
              "6"
            ]
          },
          "metadata": {},
          "execution_count": 3
        }
      ]
    },
    {
      "cell_type": "markdown",
      "source": [
        "len: 길이"
      ],
      "metadata": {
        "id": "3UYVmAUp2rYw"
      }
    },
    {
      "cell_type": "code",
      "metadata": {
        "id": "a45rgiNMmAuy",
        "outputId": "16a2e078-cda6-409e-d9dc-458ee08f0b68",
        "colab": {
          "base_uri": "https://localhost:8080/",
          "height": 35
        }
      },
      "source": [
        "s[1]+s[3]+s[4:]*10"
      ],
      "execution_count": null,
      "outputs": [
        {
          "output_type": "execute_result",
          "data": {
            "text/plain": [
              "'bdefefefefefefefefefef'"
            ],
            "application/vnd.google.colaboratory.intrinsic+json": {
              "type": "string"
            }
          },
          "metadata": {},
          "execution_count": 4
        }
      ]
    },
    {
      "cell_type": "markdown",
      "source": [
        "string에 있어도 계산할 수 있음"
      ],
      "metadata": {
        "id": "3Ut5GGUG2t7Z"
      }
    },
    {
      "cell_type": "markdown",
      "source": [
        "함수(입력)"
      ],
      "metadata": {
        "id": "TwQkfVTx3EM2"
      }
    },
    {
      "cell_type": "code",
      "metadata": {
        "id": "IevwoMpmmAuz",
        "outputId": "20df3a67-bc86-4898-a84c-1fa701268a67",
        "colab": {
          "base_uri": "https://localhost:8080/",
          "height": 35
        }
      },
      "source": [
        "s.upper()"
      ],
      "execution_count": null,
      "outputs": [
        {
          "output_type": "execute_result",
          "data": {
            "text/plain": [
              "'ABCDEF'"
            ],
            "application/vnd.google.colaboratory.intrinsic+json": {
              "type": "string"
            }
          },
          "metadata": {},
          "execution_count": 5
        }
      ]
    },
    {
      "cell_type": "markdown",
      "source": [
        "s가 upper case로 바뀜"
      ],
      "metadata": {
        "id": "Ggeb8C8L3Ule"
      }
    },
    {
      "cell_type": "code",
      "metadata": {
        "id": "LRU0Yt1amAuz",
        "outputId": "1e406dd6-1117-40d7-e00a-859629e6d1da",
        "colab": {
          "base_uri": "https://localhost:8080/",
          "height": 35
        }
      },
      "source": [
        "s = ' this is a house built this year.\\n' \t\n",
        "s"
      ],
      "execution_count": null,
      "outputs": [
        {
          "output_type": "execute_result",
          "data": {
            "text/plain": [
              "' this is a house built this year.\\n'"
            ],
            "application/vnd.google.colaboratory.intrinsic+json": {
              "type": "string"
            }
          },
          "metadata": {},
          "execution_count": 2
        }
      ]
    },
    {
      "cell_type": "markdown",
      "source": [
        "s에 string을 넣음"
      ],
      "metadata": {
        "id": "MHbG7TMs3Y8J"
      }
    },
    {
      "cell_type": "markdown",
      "source": [
        "마지막 줄에 있으면 s만 적어도 print의 효과가 있음"
      ],
      "metadata": {
        "id": "39ZkdU453fT5"
      }
    },
    {
      "cell_type": "code",
      "metadata": {
        "id": "nMHteyDfmAu0",
        "outputId": "95ace7e9-9791-413d-c9ed-d1f60e045a09",
        "colab": {
          "base_uri": "https://localhost:8080/"
        }
      },
      "source": [
        "result = s.find('house') \t    \n",
        "result"
      ],
      "execution_count": null,
      "outputs": [
        {
          "output_type": "execute_result",
          "data": {
            "text/plain": [
              "11"
            ]
          },
          "metadata": {},
          "execution_count": 8
        }
      ]
    },
    {
      "cell_type": "markdown",
      "source": [
        "house가 처음 나오는 게 11번째"
      ],
      "metadata": {
        "id": "d6xHSPZL3n-e"
      }
    },
    {
      "cell_type": "code",
      "metadata": {
        "id": "gv82JUX7mAu0",
        "outputId": "8e5fbb09-2cd1-4443-ddc0-416aa4794320",
        "colab": {
          "base_uri": "https://localhost:8080/"
        }
      },
      "source": [
        "result = s.find('this')\t     \n",
        "result"
      ],
      "execution_count": null,
      "outputs": [
        {
          "output_type": "execute_result",
          "data": {
            "text/plain": [
              "1"
            ]
          },
          "metadata": {},
          "execution_count": 9
        }
      ]
    },
    {
      "cell_type": "code",
      "metadata": {
        "id": "ua3TjwLcmAu2"
      },
      "source": [
        "s = s.strip()      \t          # a copy of s without leading or trailing whitespace\n",
        "s"
      ],
      "execution_count": null,
      "outputs": []
    },
    {
      "cell_type": "markdown",
      "source": [
        "whitespace: \\n같은 줄바꿈 표시를 없애줌"
      ],
      "metadata": {
        "id": "R3HsuRff35mb"
      }
    },
    {
      "cell_type": "code",
      "metadata": {
        "id": "l37g5DqQmAu2",
        "colab": {
          "base_uri": "https://localhost:8080/"
        },
        "outputId": "8b39a555-4e18-4f7f-be2d-ced952a2530f"
      },
      "source": [
        "tokens = s.split(' ')\t        # split s into a list wherever a t is found (whitespace by default)\n",
        "tokens"
      ],
      "execution_count": null,
      "outputs": [
        {
          "output_type": "execute_result",
          "data": {
            "text/plain": [
              "['', 'this', 'is', 'a', 'house', 'built', 'this', 'year.\\n']"
            ]
          },
          "metadata": {},
          "execution_count": 3
        }
      ]
    },
    {
      "cell_type": "markdown",
      "source": [
        "split: 빈칸이 있으면 단어들을 빈칸을 중심으로 나눠서 list로 만든다\n"
      ],
      "metadata": {
        "id": "emuptsT34AbJ"
      }
    },
    {
      "cell_type": "code",
      "metadata": {
        "id": "64sewKE8mAu2",
        "colab": {
          "base_uri": "https://localhost:8080/",
          "height": 35
        },
        "outputId": "220f00c6-0849-4562-f2f2-0ee22a0fa311"
      },
      "source": [
        "s = ' '.join(tokens)\t        # combine the words of the text into a string using s as the glue\n",
        "s"
      ],
      "execution_count": null,
      "outputs": [
        {
          "output_type": "execute_result",
          "data": {
            "text/plain": [
              "' this is a house built this year.\\n'"
            ],
            "application/vnd.google.colaboratory.intrinsic+json": {
              "type": "string"
            }
          },
          "metadata": {},
          "execution_count": 4
        }
      ]
    },
    {
      "cell_type": "markdown",
      "source": [
        "join: list를 한 문장으로"
      ],
      "metadata": {
        "id": "OMJYcERyuMM-"
      }
    },
    {
      "cell_type": "code",
      "metadata": {
        "id": "jfiqbBiImAu3",
        "colab": {
          "base_uri": "https://localhost:8080/",
          "height": 35
        },
        "outputId": "5b72ea4f-3804-4e2b-8c05-0ad1b1866147"
      },
      "source": [
        "s = s.replace('this', 'that') # replace instances of t with u inside s\n",
        "s"
      ],
      "execution_count": null,
      "outputs": [
        {
          "output_type": "execute_result",
          "data": {
            "text/plain": [
              "' that is a house built that year.\\n'"
            ],
            "application/vnd.google.colaboratory.intrinsic+json": {
              "type": "string"
            }
          },
          "metadata": {},
          "execution_count": 5
        }
      ]
    },
    {
      "cell_type": "markdown",
      "source": [
        "replace: this를 that으로 대체함"
      ],
      "metadata": {
        "id": "xpUHhEVOuR3x"
      }
    },
    {
      "cell_type": "markdown",
      "source": [
        "# **function**\n"
      ],
      "metadata": {
        "id": "3xG5eYKs2zkh"
      }
    },
    {
      "cell_type": "code",
      "source": [
        "def add(a,b):\n",
        "  return a+b\n",
        "\n",
        "def subtract(a,b):\n",
        "  return a-b\n",
        "\n",
        "def multiply(a,b):\n",
        "  return a*b\n",
        "\n",
        "def divide(a,b):\n",
        "  return a/b"
      ],
      "metadata": {
        "id": "n-kvEcds28Ll"
      },
      "execution_count": null,
      "outputs": []
    },
    {
      "cell_type": "code",
      "source": [
        "c=add(1,2); print(c)\n",
        "c=subtract(1,2); print(c)\n",
        "c=multiply(1,2); print(c)\n",
        "c=divide(1,2); print(c)"
      ],
      "metadata": {
        "colab": {
          "base_uri": "https://localhost:8080/"
        },
        "id": "4KqeCuNm1oCq",
        "outputId": "0374193e-73bc-43ae-b276-e3b66807d036"
      },
      "execution_count": null,
      "outputs": [
        {
          "output_type": "stream",
          "name": "stdout",
          "text": [
            "3\n",
            "-1\n",
            "2\n",
            "0.5\n"
          ]
        }
      ]
    },
    {
      "cell_type": "markdown",
      "source": [
        "define 함수 이름 (입력 변수 1, 입력 변수 2):\\\n",
        "함수 정의에 대한 내용\\\n",
        "return 출력 변수 이름"
      ],
      "metadata": {
        "id": "YDVdKxdB3BYP"
      }
    },
    {
      "cell_type": "markdown",
      "source": [
        "# **syntax**"
      ],
      "metadata": {
        "id": "W7_MjCav2pDz"
      }
    },
    {
      "cell_type": "code",
      "source": [
        "a = [1,2,3,4]\n",
        "for i in a:\n",
        "  print (i)"
      ],
      "metadata": {
        "colab": {
          "base_uri": "https://localhost:8080/"
        },
        "id": "qc8kEHAh2uDp",
        "outputId": "a828e463-63f3-4e25-f912-8839bdf4a168"
      },
      "execution_count": null,
      "outputs": [
        {
          "output_type": "stream",
          "name": "stdout",
          "text": [
            "1\n",
            "2\n",
            "3\n",
            "4\n"
          ]
        }
      ]
    },
    {
      "cell_type": "markdown",
      "source": [
        "처음부터 하나하나씩 받아서 돌린다\\\n",
        "for loop"
      ],
      "metadata": {
        "id": "ATScv4i124W5"
      }
    },
    {
      "cell_type": "code",
      "source": [
        "a=[1,2,3,4]\n",
        "for i in range(len(a)):\n",
        "  print(a[i])"
      ],
      "metadata": {
        "colab": {
          "base_uri": "https://localhost:8080/"
        },
        "id": "2-Z4YH2O3EJq",
        "outputId": "f6526227-ee42-42e5-b5b4-2a6ee097ba58"
      },
      "execution_count": null,
      "outputs": [
        {
          "output_type": "stream",
          "name": "stdout",
          "text": [
            "1\n",
            "2\n",
            "3\n",
            "4\n"
          ]
        }
      ]
    },
    {
      "cell_type": "markdown",
      "source": [
        "for loop에서 in range를 많이 씀\\\n",
        "in 다음에 range를 써서 index를 이용한 방법\\\n",
        "range 4는 [0,1,2,3]의 index"
      ],
      "metadata": {
        "id": "384kdZNP3K4o"
      }
    },
    {
      "cell_type": "code",
      "source": [
        "a=['red','green','blue','purple']\n",
        "for i in a:\n",
        "  print(i)"
      ],
      "metadata": {
        "colab": {
          "base_uri": "https://localhost:8080/"
        },
        "id": "a7o6eHYv3Ygu",
        "outputId": "3bbd9afa-5011-47d6-cac0-844ca3d21bc6"
      },
      "execution_count": null,
      "outputs": [
        {
          "output_type": "stream",
          "name": "stdout",
          "text": [
            "red\n",
            "green\n",
            "blue\n",
            "purple\n"
          ]
        }
      ]
    },
    {
      "cell_type": "markdown",
      "source": [
        "string"
      ],
      "metadata": {
        "id": "QAN1gRDO3o-C"
      }
    },
    {
      "cell_type": "code",
      "source": [
        "a=['red','green','blue','purple']\n",
        "for i in range(len(a)):\n",
        "  print(a[i])"
      ],
      "metadata": {
        "colab": {
          "base_uri": "https://localhost:8080/"
        },
        "id": "f29vl3BC3tLs",
        "outputId": "87564265-de0d-4291-d334-86adcfedc653"
      },
      "execution_count": null,
      "outputs": [
        {
          "output_type": "stream",
          "name": "stdout",
          "text": [
            "red\n",
            "green\n",
            "blue\n",
            "purple\n"
          ]
        }
      ]
    },
    {
      "cell_type": "code",
      "source": [
        "a=0\n",
        "if a ==0:\n",
        "  print(a)"
      ],
      "metadata": {
        "colab": {
          "base_uri": "https://localhost:8080/"
        },
        "id": "2hpAnj6t325m",
        "outputId": "1c27b9ab-156a-45a0-fa5e-ef64ec0beda4"
      },
      "execution_count": null,
      "outputs": [
        {
          "output_type": "stream",
          "name": "stdout",
          "text": [
            "0\n"
          ]
        }
      ]
    },
    {
      "cell_type": "markdown",
      "source": [
        "a가 0과 같다면"
      ],
      "metadata": {
        "id": "Qm_8kItm39w9"
      }
    },
    {
      "cell_type": "code",
      "source": [
        "a=0\n",
        "if a !=0:\n",
        "  print(a)\n",
        "else:\n",
        "  print(a+1)"
      ],
      "metadata": {
        "colab": {
          "base_uri": "https://localhost:8080/"
        },
        "id": "1oknrzfH4IBG",
        "outputId": "c9890241-87df-42e9-eff5-a1cc956c7d69"
      },
      "execution_count": null,
      "outputs": [
        {
          "output_type": "stream",
          "name": "stdout",
          "text": [
            "1\n"
          ]
        }
      ]
    },
    {
      "cell_type": "markdown",
      "source": [
        "a가 0이 아니라면 else"
      ],
      "metadata": {
        "id": "1H2HK5l-4cbC"
      }
    },
    {
      "cell_type": "code",
      "source": [
        "for i in range(1,3):\n",
        "  for j in range(3,5):\n",
        "    print(i*j)"
      ],
      "metadata": {
        "colab": {
          "base_uri": "https://localhost:8080/"
        },
        "id": "4BHEYIA04f1A",
        "outputId": "05b1a50d-3343-4644-bd03-c11482568af9"
      },
      "execution_count": null,
      "outputs": [
        {
          "output_type": "stream",
          "name": "stdout",
          "text": [
            "3\n",
            "4\n",
            "6\n",
            "8\n"
          ]
        }
      ]
    },
    {
      "cell_type": "markdown",
      "source": [
        "range(1,3) > [1,2]\\\n",
        "range(3,5) > [3,4]"
      ],
      "metadata": {
        "id": "zWY2mn3T4noa"
      }
    },
    {
      "cell_type": "code",
      "source": [
        "for i in range(1,3):\n",
        "  for j in range(3,5):\n",
        "    if j >=4:\n",
        "      print(i*j)"
      ],
      "metadata": {
        "colab": {
          "base_uri": "https://localhost:8080/"
        },
        "id": "u0aQNt2E42cw",
        "outputId": "2fdb87e5-8774-4387-9471-32459d8fa6ea"
      },
      "execution_count": null,
      "outputs": [
        {
          "output_type": "stream",
          "name": "stdout",
          "text": [
            "4\n",
            "8\n"
          ]
        }
      ]
    },
    {
      "cell_type": "markdown",
      "source": [
        "j가 4보다 같거나 클 때만 print"
      ],
      "metadata": {
        "id": "rWxNqUTa48Dw"
      }
    },
    {
      "cell_type": "code",
      "source": [
        "a = [1,2,3,4]\n",
        "b = [i for i in a if i >=2]\n",
        "print(b)"
      ],
      "metadata": {
        "colab": {
          "base_uri": "https://localhost:8080/"
        },
        "id": "yoZTy8Bv5D9F",
        "outputId": "e4f5ced5-014c-43d7-e4eb-324166855dd9"
      },
      "execution_count": null,
      "outputs": [
        {
          "output_type": "stream",
          "name": "stdout",
          "text": [
            "[2, 3, 4]\n"
          ]
        }
      ]
    },
    {
      "cell_type": "code",
      "source": [
        "a = ['red','green','blue','purple']\n",
        "b= [ i for i in a if len(i) >=4]\n",
        "print(b)"
      ],
      "metadata": {
        "colab": {
          "base_uri": "https://localhost:8080/"
        },
        "id": "sFnW0jKW5Q5s",
        "outputId": "18d41ee2-6a90-4d87-8362-c7742c6689b0"
      },
      "execution_count": null,
      "outputs": [
        {
          "output_type": "stream",
          "name": "stdout",
          "text": [
            "['green', 'blue', 'purple']\n"
          ]
        }
      ]
    },
    {
      "cell_type": "markdown",
      "source": [
        "list comprehension"
      ],
      "metadata": {
        "id": "WThuURU55kjN"
      }
    },
    {
      "cell_type": "code",
      "source": [
        "a=['red','green','blue','purple']\n",
        "b=[1,2,3,4,]\n",
        "c={a[i]:b[i] for i in range(4)}\n",
        "print(c)"
      ],
      "metadata": {
        "colab": {
          "base_uri": "https://localhost:8080/"
        },
        "id": "gpu3-y1w5le3",
        "outputId": "800cdddd-3b38-41f6-f5a6-9810b3027922"
      },
      "execution_count": null,
      "outputs": [
        {
          "output_type": "stream",
          "name": "stdout",
          "text": [
            "{'red': 1, 'green': 2, 'blue': 3, 'purple': 4}\n"
          ]
        }
      ]
    },
    {
      "cell_type": "markdown",
      "source": [
        "dict comprehension"
      ],
      "metadata": {
        "id": "atTXH3ZG5xZk"
      }
    },
    {
      "cell_type": "markdown",
      "source": [
        "# **package**"
      ],
      "metadata": {
        "id": "YDC9JyrJ59Mv"
      }
    },
    {
      "cell_type": "markdown",
      "source": [
        "## import"
      ],
      "metadata": {
        "id": "UsXgbvIK6PiC"
      }
    },
    {
      "cell_type": "code",
      "source": [
        "import numpy"
      ],
      "metadata": {
        "id": "J2u997_56HEA"
      },
      "execution_count": null,
      "outputs": []
    },
    {
      "cell_type": "markdown",
      "source": [
        "random number generating\n",
        "수치를 계산할 때"
      ],
      "metadata": {
        "id": "T8nxHm7r6lm-"
      }
    },
    {
      "cell_type": "code",
      "source": [
        "n=numpy.random.randn(100)"
      ],
      "metadata": {
        "id": "rRZurO5x6s6Q"
      },
      "execution_count": null,
      "outputs": []
    },
    {
      "cell_type": "code",
      "source": [
        "import matplotlib\n",
        "matplotlib.pyplot.hist(n)"
      ],
      "metadata": {
        "colab": {
          "base_uri": "https://localhost:8080/",
          "height": 358
        },
        "id": "5LFe4yjs8OsY",
        "outputId": "1e77c903-27d0-409a-d999-27590ffb35b7"
      },
      "execution_count": null,
      "outputs": [
        {
          "output_type": "execute_result",
          "data": {
            "text/plain": [
              "(array([ 3.,  3., 11., 24., 22., 17., 13.,  5.,  1.,  1.]),\n",
              " array([-2.5223742 , -1.9389473 , -1.35552041, -0.77209351, -0.18866662,\n",
              "         0.39476028,  0.97818717,  1.56161407,  2.14504096,  2.72846786,\n",
              "         3.31189475]),\n",
              " <a list of 10 Patch objects>)"
            ]
          },
          "metadata": {},
          "execution_count": 45
        },
        {
          "output_type": "display_data",
          "data": {
            "text/plain": [
              "<Figure size 432x288 with 1 Axes>"
            ],
            "image/png": "[encoded data removed]"
          },
          "metadata": {
            "needs_background": "light"
          }
        }
      ]
    },
    {
      "cell_type": "markdown",
      "source": [
        "히스토그램"
      ],
      "metadata": {
        "id": "70MiVd-l9Hgr"
      }
    },
    {
      "cell_type": "code",
      "source": [
        "import matplotlib.pyplot as plt\n",
        "plt.hist(n)"
      ],
      "metadata": {
        "colab": {
          "base_uri": "https://localhost:8080/",
          "height": 358
        },
        "id": "_B2PCC3r9IeS",
        "outputId": "cbfe71e7-e3dd-4d0b-89cf-c14b7d92a69d"
      },
      "execution_count": null,
      "outputs": [
        {
          "output_type": "execute_result",
          "data": {
            "text/plain": [
              "(array([ 3.,  3., 11., 24., 22., 17., 13.,  5.,  1.,  1.]),\n",
              " array([-2.5223742 , -1.9389473 , -1.35552041, -0.77209351, -0.18866662,\n",
              "         0.39476028,  0.97818717,  1.56161407,  2.14504096,  2.72846786,\n",
              "         3.31189475]),\n",
              " <a list of 10 Patch objects>)"
            ]
          },
          "metadata": {},
          "execution_count": 46
        },
        {
          "output_type": "display_data",
          "data": {
            "text/plain": [
              "<Figure size 432x288 with 1 Axes>"
            ],
            "image/png": "[encoded data removed]"
          },
          "metadata": {
            "needs_background": "light"
          }
        }
      ]
    },
    {
      "cell_type": "markdown",
      "source": [
        "이렇게 쓸 수도 있음"
      ],
      "metadata": {
        "id": "NM-XMcjv9N5T"
      }
    },
    {
      "cell_type": "code",
      "source": [
        "from matplotlib import pyplot\n",
        "pyplot.hist(n)"
      ],
      "metadata": {
        "colab": {
          "base_uri": "https://localhost:8080/",
          "height": 358
        },
        "id": "QrHGEKID9VI7",
        "outputId": "8ea73fc0-2157-4abd-c417-a92903c12e63"
      },
      "execution_count": null,
      "outputs": [
        {
          "output_type": "execute_result",
          "data": {
            "text/plain": [
              "(array([ 3.,  3., 11., 24., 22., 17., 13.,  5.,  1.,  1.]),\n",
              " array([-2.5223742 , -1.9389473 , -1.35552041, -0.77209351, -0.18866662,\n",
              "         0.39476028,  0.97818717,  1.56161407,  2.14504096,  2.72846786,\n",
              "         3.31189475]),\n",
              " <a list of 10 Patch objects>)"
            ]
          },
          "metadata": {},
          "execution_count": 47
        },
        {
          "output_type": "display_data",
          "data": {
            "text/plain": [
              "<Figure size 432x288 with 1 Axes>"
            ],
            "image/png": "[encoded data removed]"
          },
          "metadata": {
            "needs_background": "light"
          }
        }
      ]
    },
    {
      "cell_type": "markdown",
      "source": [
        "from import를 쓰면 import as처럼 축약해서 부를 수 있음"
      ],
      "metadata": {
        "id": "0Td3FU7V9bKh"
      }
    },
    {
      "cell_type": "code",
      "source": [
        "from matplotlib.pyplot import hist\n",
        "hist(n)"
      ],
      "metadata": {
        "colab": {
          "base_uri": "https://localhost:8080/",
          "height": 358
        },
        "id": "gbLPlaYN9i0N",
        "outputId": "017c7e24-ed1c-44ab-fb86-ffc7f2aec554"
      },
      "execution_count": null,
      "outputs": [
        {
          "output_type": "execute_result",
          "data": {
            "text/plain": [
              "(array([ 3.,  3., 11., 24., 22., 17., 13.,  5.,  1.,  1.]),\n",
              " array([-2.5223742 , -1.9389473 , -1.35552041, -0.77209351, -0.18866662,\n",
              "         0.39476028,  0.97818717,  1.56161407,  2.14504096,  2.72846786,\n",
              "         3.31189475]),\n",
              " <a list of 10 Patch objects>)"
            ]
          },
          "metadata": {},
          "execution_count": 48
        },
        {
          "output_type": "display_data",
          "data": {
            "text/plain": [
              "<Figure size 432x288 with 1 Axes>"
            ],
            "image/png": "[encoded data removed]"
          },
          "metadata": {
            "needs_background": "light"
          }
        }
      ]
    },
    {
      "cell_type": "markdown",
      "source": [
        "## create nd arrays (=matrices)"
      ],
      "metadata": {
        "id": "hmO-kfMzIueU"
      }
    },
    {
      "cell_type": "markdown",
      "source": [
        "matrix: 행렬"
      ],
      "metadata": {
        "id": "3D0634PbIyc0"
      }
    },
    {
      "cell_type": "code",
      "source": [
        "import numpy as np"
      ],
      "metadata": {
        "id": "WpL05KyzI_R8"
      },
      "execution_count": null,
      "outputs": []
    },
    {
      "cell_type": "code",
      "source": [
        "x = np.array([1,2,3])\n",
        "print(x)\n",
        "print(type(x))\n",
        "print(x.shape)"
      ],
      "metadata": {
        "colab": {
          "base_uri": "https://localhost:8080/"
        },
        "id": "gFVgoypLJBse",
        "outputId": "154b959d-7501-4622-824f-de2819944dba"
      },
      "execution_count": null,
      "outputs": [
        {
          "output_type": "stream",
          "name": "stdout",
          "text": [
            "[1 2 3]\n",
            "<class 'numpy.ndarray'>\n",
            "(3,)\n"
          ]
        }
      ]
    },
    {
      "cell_type": "code",
      "source": [
        "x = np.arange(0,10,2)\n",
        "print(x)\n",
        "print(type(x))\n",
        "print(x.shape)"
      ],
      "metadata": {
        "colab": {
          "base_uri": "https://localhost:8080/"
        },
        "id": "Qy8ASdi2JIjI",
        "outputId": "95cda151-9ff5-4c0c-f8a5-a97b22f04df6"
      },
      "execution_count": null,
      "outputs": [
        {
          "output_type": "stream",
          "name": "stdout",
          "text": [
            "[0 2 4 6 8]\n",
            "<class 'numpy.ndarray'>\n",
            "(5,)\n"
          ]
        }
      ]
    },
    {
      "cell_type": "markdown",
      "source": [
        "(0,10,2): increment\n",
        "[0 2 4 6 8]\n",
        "1-d array"
      ],
      "metadata": {
        "id": "VaJiFaJaJOJB"
      }
    },
    {
      "cell_type": "code",
      "source": [
        "x = np.linspace(0,10,6)\n",
        "print(x)\n",
        "print(type(x))\n",
        "print(x.shape)"
      ],
      "metadata": {
        "colab": {
          "base_uri": "https://localhost:8080/"
        },
        "id": "HUzNDdFLJoGb",
        "outputId": "28ea92db-22af-41e8-8c36-6c56789dc07b"
      },
      "execution_count": null,
      "outputs": [
        {
          "output_type": "stream",
          "name": "stdout",
          "text": [
            "[ 0.  2.  4.  6.  8. 10.]\n",
            "<class 'numpy.ndarray'>\n",
            "(6,)\n"
          ]
        }
      ]
    },
    {
      "cell_type": "markdown",
      "source": [
        "linspace: linear space\\\n",
        "(0,10,6) 10 포함"
      ],
      "metadata": {
        "id": "WpqefhsaJqg9"
      }
    },
    {
      "cell_type": "code",
      "source": [
        "x=np.array([[1,2,3],[4,5,6]])\n",
        "print(x)\n",
        "print(type(x))\n",
        "print(x.shape)\n"
      ],
      "metadata": {
        "colab": {
          "base_uri": "https://localhost:8080/"
        },
        "id": "dPyUEBb_J5MM",
        "outputId": "239a162e-fa99-4d4a-f018-954d7ce5f6e4"
      },
      "execution_count": null,
      "outputs": [
        {
          "output_type": "stream",
          "name": "stdout",
          "text": [
            "[[1 2 3]\n",
            " [4 5 6]]\n",
            "<class 'numpy.ndarray'>\n",
            "(2, 3)\n"
          ]
        }
      ]
    },
    {
      "cell_type": "markdown",
      "source": [
        "이중의 리스트\n",
        "행 2개 열 3개\n",
        "2d"
      ],
      "metadata": {
        "id": "F6KuS8qkKAPS"
      }
    },
    {
      "cell_type": "code",
      "source": [
        "x=np.array([[[1,2,3],[4,5,6]], [[7,8,9],[10,11,12]]])\n",
        "print(x)\n",
        "print(type(x))\n",
        "print(x.shape)"
      ],
      "metadata": {
        "colab": {
          "base_uri": "https://localhost:8080/"
        },
        "id": "yA7kqbrZKK94",
        "outputId": "2835b7c3-1ea9-4c9e-f3f6-fd262f26c953"
      },
      "execution_count": null,
      "outputs": [
        {
          "output_type": "stream",
          "name": "stdout",
          "text": [
            "[[[ 1  2  3]\n",
            "  [ 4  5  6]]\n",
            "\n",
            " [[ 7  8  9]\n",
            "  [10 11 12]]]\n",
            "<class 'numpy.ndarray'>\n",
            "(2, 2, 3)\n"
          ]
        }
      ]
    },
    {
      "cell_type": "markdown",
      "source": [
        "3d"
      ],
      "metadata": {
        "id": "QIisLXp5Kc9c"
      }
    },
    {
      "cell_type": "code",
      "source": [
        "x = np.ones([2,2,3])\n",
        "print(x)\n",
        "print(type(x))\n",
        "print(x.shape)"
      ],
      "metadata": {
        "colab": {
          "base_uri": "https://localhost:8080/"
        },
        "id": "ji3GUVaPKcnb",
        "outputId": "be5c155a-b9a1-4c53-bc81-1ebee96370ed"
      },
      "execution_count": null,
      "outputs": [
        {
          "output_type": "stream",
          "name": "stdout",
          "text": [
            "[[[1. 1. 1.]\n",
            "  [1. 1. 1.]]\n",
            "\n",
            " [[1. 1. 1.]\n",
            "  [1. 1. 1.]]]\n",
            "<class 'numpy.ndarray'>\n",
            "(2, 2, 3)\n"
          ]
        }
      ]
    },
    {
      "cell_type": "markdown",
      "source": [
        "ones: 2, 2, 3의 3d array 함수"
      ],
      "metadata": {
        "id": "f8yJ3QVJKmiH"
      }
    },
    {
      "cell_type": "code",
      "source": [
        "x = np.zeros([2,2,3])\n",
        "print(x)\n",
        "print(type(x))\n",
        "print(x.shape)"
      ],
      "metadata": {
        "colab": {
          "base_uri": "https://localhost:8080/"
        },
        "id": "SV8OefIyKquP",
        "outputId": "795c5a4b-bdc1-4b7f-ffca-7d21392b85b5"
      },
      "execution_count": null,
      "outputs": [
        {
          "output_type": "stream",
          "name": "stdout",
          "text": [
            "[[[0. 0. 0.]\n",
            "  [0. 0. 0.]]\n",
            "\n",
            " [[0. 0. 0.]\n",
            "  [0. 0. 0.]]]\n",
            "<class 'numpy.ndarray'>\n",
            "(2, 2, 3)\n"
          ]
        }
      ]
    },
    {
      "cell_type": "markdown",
      "source": [
        "## create random numbers"
      ],
      "metadata": {
        "id": "PCv8scWVKvf2"
      }
    },
    {
      "cell_type": "code",
      "source": [
        "np.random.normal(0,1, [2,3,4])"
      ],
      "metadata": {
        "colab": {
          "base_uri": "https://localhost:8080/"
        },
        "id": "8e8xaJaZKzXj",
        "outputId": "206a88cb-3b84-4e19-df42-ba865e386868"
      },
      "execution_count": null,
      "outputs": [
        {
          "output_type": "execute_result",
          "data": {
            "text/plain": [
              "array([[[-1.36901312, -1.23766842,  1.41763106,  0.34005016],\n",
              "        [-0.1792502 , -1.81484126, -0.10456187, -0.80247462],\n",
              "        [ 0.04176761, -0.32743315,  1.62087518,  0.17608869]],\n",
              "\n",
              "       [[-1.36644111,  1.37743603, -1.57467221,  0.48120943],\n",
              "        [ 0.43186997,  0.9315426 ,  0.81553792, -0.29664776],\n",
              "        [ 0.62134112, -0.92064543, -1.49477874, -0.19701668]]])"
            ]
          },
          "metadata": {},
          "execution_count": 71
        }
      ]
    },
    {
      "cell_type": "markdown",
      "source": [
        "numpy.random.normal\\\n",
        "[링크 텍스트](https://numpy.org/doc/stable/reference/random/generated/numpy.random.normal.html)"
      ],
      "metadata": {
        "id": "tO_GjwZuK7EY"
      }
    },
    {
      "cell_type": "code",
      "source": [
        "import matplotlib.pyplot as plt"
      ],
      "metadata": {
        "id": "85VX1g1TLQ0l"
      },
      "execution_count": null,
      "outputs": []
    },
    {
      "cell_type": "code",
      "source": [
        "x= np.random.normal(0,1,100)\n",
        "print(x)\n",
        "plt.hist(x,bins=10)"
      ],
      "metadata": {
        "colab": {
          "base_uri": "https://localhost:8080/",
          "height": 664
        },
        "id": "LBcgTSK0LTy4",
        "outputId": "eaa4e246-f8b6-4469-ae5c-c35ffdc455b3"
      },
      "execution_count": null,
      "outputs": [
        {
          "output_type": "stream",
          "name": "stdout",
          "text": [
            "[-1.20729509  0.06110837 -1.64045919 -0.18117709 -1.85382368 -0.51262907\n",
            "  2.10358119  1.78042019 -1.4863689  -0.30164693  1.03418096 -0.66102523\n",
            "  0.99718476 -0.86185686  0.20838367 -0.70027603 -0.81289155 -0.86976666\n",
            " -1.16626565 -0.79939484 -0.45575327 -0.209052   -0.75987497 -1.23553712\n",
            " -1.4153575  -0.31953243 -1.41744076  1.72034651  0.54316405 -0.88569771\n",
            "  0.0937337  -0.20737294 -0.42089768  0.10382435  0.2930945   1.65582887\n",
            " -1.57833085  0.06793513 -0.18017772 -0.34759727 -0.10278653 -0.4349634\n",
            "  0.79780263 -0.18102735  1.93790132  0.42315695  0.30955068 -1.51466774\n",
            "  0.40239111  2.32625416 -0.75133832 -0.14270952  0.6978491   0.26929512\n",
            "  0.32657378 -0.13002623  0.59999683  0.81241258 -0.97129535  0.68295145\n",
            " -1.8187112  -1.7351443  -0.54879781  0.10018104  1.10208799  1.24029364\n",
            " -0.32226139  0.68637967  0.18809639  0.56668669  0.66926299 -0.55610341\n",
            " -0.65227644  0.38377457 -1.03979364 -1.5792973   0.31865302 -0.07189387\n",
            " -1.46343189  0.76743228 -0.15879774 -0.24454641 -0.48209845  1.87414355\n",
            "  0.31210559 -0.42866153  0.66366145  1.03958056  2.18651508  0.69169627\n",
            "  0.60172716 -0.79993616  0.66044932 -1.14820462  0.6948702   0.31211957\n",
            " -0.67772898  1.37607627  0.56876555 -0.30487267]\n"
          ]
        },
        {
          "output_type": "execute_result",
          "data": {
            "text/plain": [
              "(array([ 9.,  7., 13., 16., 15., 15., 14.,  3.,  4.,  4.]),\n",
              " array([-1.85382368, -1.4358159 , -1.01780812, -0.59980033, -0.18179255,\n",
              "         0.23621524,  0.65422302,  1.07223081,  1.49023859,  1.90824637,\n",
              "         2.32625416]),\n",
              " <a list of 10 Patch objects>)"
            ]
          },
          "metadata": {},
          "execution_count": 73
        },
        {
          "output_type": "display_data",
          "data": {
            "text/plain": [
              "<Figure size 432x288 with 1 Axes>"
            ],
            "image/png": "[encoded data removed]"
          },
          "metadata": {
            "needs_background": "light"
          }
        }
      ]
    },
    {
      "cell_type": "markdown",
      "source": [
        "1d array\\\n",
        "bin:통"
      ],
      "metadata": {
        "id": "BeKDJzA_LYFQ"
      }
    },
    {
      "cell_type": "markdown",
      "source": [
        "## generate a sine curve"
      ],
      "metadata": {
        "id": "-nA6OdwFLo3y"
      }
    },
    {
      "cell_type": "code",
      "source": [
        "import matplotlib.pyplot as plt"
      ],
      "metadata": {
        "id": "HJwi2IpSLusV"
      },
      "execution_count": null,
      "outputs": []
    },
    {
      "cell_type": "code",
      "source": [
        "plt.figure()\n",
        "\n",
        "theta1=np.linspace(0, 2*np.pi, 100)\n",
        "s1=np.sin(theta1)\n",
        "theta2=np.linspace(0,2*np.pi,100)+np.pi/2\n",
        "s2= np.sin(theta2)\n",
        "\n",
        "plt.subplot(2,1,1) # (rows,columns, panel number)\n",
        "plt.plot(theta1, s1, '.')\n",
        "plt.subplot(2,1,2) #(rows, columns, panel number)\n",
        "plt.plot(theta2, s2, '.')"
      ],
      "metadata": {
        "colab": {
          "base_uri": "https://localhost:8080/",
          "height": 283
        },
        "id": "8HOrpgOsLxpE",
        "outputId": "44654fb5-96a6-4e28-a541-0115bc80ed19"
      },
      "execution_count": null,
      "outputs": [
        {
          "output_type": "execute_result",
          "data": {
            "text/plain": [
              "[<matplotlib.lines.Line2D at 0x7f8c9d50e610>]"
            ]
          },
          "metadata": {},
          "execution_count": 75
        },
        {
          "output_type": "display_data",
          "data": {
            "text/plain": [
              "<Figure size 432x288 with 2 Axes>"
            ],
            "image/png": "[encoded data removed]"
          },
          "metadata": {
            "needs_background": "light"
          }
        }
      ]
    },
    {
      "cell_type": "markdown",
      "source": [
        "pi: radiant 값"
      ],
      "metadata": {
        "id": "a_-vGHAGMEYL"
      }
    },
    {
      "cell_type": "code",
      "source": [
        "np.corrcoef(s1,s2)"
      ],
      "metadata": {
        "id": "SeYhL9fMM0Kx",
        "outputId": "004294e5-3e4a-41ae-a6e4-b61731fdb336",
        "colab": {
          "base_uri": "https://localhost:8080/"
        }
      },
      "execution_count": null,
      "outputs": [
        {
          "output_type": "execute_result",
          "data": {
            "text/plain": [
              "array([[1.00000000e+00, 2.41915449e-17],\n",
              "       [2.41915449e-17, 1.00000000e+00]])"
            ]
          },
          "metadata": {},
          "execution_count": 76
        }
      ]
    },
    {
      "cell_type": "markdown",
      "source": [
        "correlation coefficient: 어느 정도 비례하고 반비례하는지\\\n",
        "-1<r<1"
      ],
      "metadata": {
        "id": "EtMkHHa5Mrb5"
      }
    }
  ]
}