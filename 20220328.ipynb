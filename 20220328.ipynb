{
  "nbformat": 4,
  "nbformat_minor": 0,
  "metadata": {
    "colab": {
      "name": "20220328.ipynb",
      "provenance": [],
      "collapsed_sections": [],
      "authorship_tag": "ABX9TyNOapZMP1rRxJ2C/Z4MpmHW",
      "include_colab_link": true
    },
    "kernelspec": {
      "name": "python3",
      "display_name": "Python 3"
    },
    "language_info": {
      "name": "python"
    }
  },
  "cells": [
    {
      "cell_type": "markdown",
      "metadata": {
        "id": "view-in-github",
        "colab_type": "text"
      },
      "source": [
        "<a href=\"https://colab.research.google.com/github/cindysp12/class2022Spring/blob/main/20220328.ipynb\" target=\"_parent\"><img src=\"https://colab.research.google.com/assets/colab-badge.svg\" alt=\"Open In Colab\"/></a>"
      ]
    },
    {
      "cell_type": "code",
      "execution_count": null,
      "metadata": {
        "id": "fq1PRv5ZFI2r"
      },
      "outputs": [],
      "source": [
        "!pip install gradio\n",
        "import gradio as gr\n",
        "import requests\n",
        "import pandas as pd"
      ]
    },
    {
      "cell_type": "code",
      "source": [
        "URL = ('http://apis.data.go.kr/6430000/cbLibraryInfoService/'\n",
        " 'getLibraryInfo?'\n",
        " '&serviceKey=Un4%2F2rEn8OMBytcegZ1rOPi95qlx9C4DqxQyIt2Ju%2BpMGy6E6k6bg%2BQEfQxaiiRdAJCEJVbE%2BUxTmGINH0r7jw%3D%3D')\n",
        " \n",
        "response = requests.get(URL)"
      ],
      "metadata": {
        "id": "7trBQzp9PbbO"
      },
      "execution_count": 60,
      "outputs": []
    },
    {
      "cell_type": "code",
      "source": [
        "response"
      ],
      "metadata": {
        "colab": {
          "base_uri": "https://localhost:8080/"
        },
        "id": "ndknGscMWwSx",
        "outputId": "7ee4b265-5b23-488a-88a8-6bb4dd7729ad"
      },
      "execution_count": 61,
      "outputs": [
        {
          "output_type": "execute_result",
          "data": {
            "text/plain": [
              "<Response [200]>"
            ]
          },
          "metadata": {},
          "execution_count": 61
        }
      ]
    },
    {
      "cell_type": "code",
      "source": [
        "r = response.json()\n",
        "r"
      ],
      "metadata": {
        "id": "stP2G7TSWxji"
      },
      "execution_count": null,
      "outputs": []
    },
    {
      "cell_type": "code",
      "source": [
        "def test(FCLTY):\n",
        "\n",
        " URL = ('http://apis.data.go.kr/6430000/cbLibraryInfoService/'\n",
        " 'getLibraryInfo?'\n",
        " 'FCLTY='+FCLTY+\n",
        " '&serviceKey=Un4%2F2rEn8OMBytcegZ1rOPi95qlx9C4DqxQyIt2Ju%2BpMGy6E6k6bg%2BQEfQxaiiRdAJCEJVbE%2BUxTmGINH0r7jw%3D%3D'\n",
        " '&currentPage=1'\n",
        " '&perPage=10')\n",
        " \n",
        " response=requests.get(URL)\n",
        " r=response.json()\n",
        " items=r['body']\n",
        "\n",
        " ADRES = [item['ADRES'] for item in items]\n",
        " SE = [item['SE'] for item in items]\n",
        " FLOOR = [item['FLOOR'] for item in items]\n",
        " UNDGRND = [item['UNDGRND'] for item in items]\n",
        "\n",
        "\n",
        " ADRES = pd.Series(ADRES)\n",
        " SE = pd.Series(SE)\n",
        " FLOOR = pd.Series(FLOOR)\n",
        " UNDGRND = pd.Series(UNDGRND)\n",
        "\n",
        " df = pd.DataFrame({'ADRES': ADRES, 'SE': SE, 'FLOOR':FLOOR,'UNDGRND':UNDGRND})\n",
        " return df"
      ],
      "metadata": {
        "id": "4NikJbQ3FY8u"
      },
      "execution_count": 72,
      "outputs": []
    },
    {
      "cell_type": "code",
      "source": [
        "iface = gr.Interface(test, gr.inputs.Dropdown(['청주시립도서관', '청주상당도서관', '청주청원도서관', '청주목령도서관', '청주시립오송도서관', '청주서원도서관', '청주흥덕도서관', '청주신율봉어린이도서관', '청주옥산도서관', '기적의도서관', '충청북도중앙도서관', '충청북도학생교육문화원', '충주시립도서관', '충주시립도서관 호암분관', '충주학생도서관', '중원도서관', '제천시립도서관', '제천의병도서관', '제천 여성 도서관', '봉양도서관']), outputs=['dataframe'])\n",
        "iface.launch(debug=True)"
      ],
      "metadata": {
        "id": "KlyXCVTSIxDX"
      },
      "execution_count": null,
      "outputs": []
    }
  ]
}