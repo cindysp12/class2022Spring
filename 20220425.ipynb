{
  "nbformat": 4,
  "nbformat_minor": 0,
  "metadata": {
    "colab": {
      "name": "20220425.ipynb",
      "provenance": [],
      "authorship_tag": "ABX9TyP7pMC60jUuDxZQuR5J/xBu",
      "include_colab_link": true
    },
    "kernelspec": {
      "name": "python3",
      "display_name": "Python 3"
    },
    "language_info": {
      "name": "python"
    }
  },
  "cells": [
    {
      "cell_type": "markdown",
      "metadata": {
        "id": "view-in-github",
        "colab_type": "text"
      },
      "source": [
        "<a href=\"https://colab.research.google.com/github/cindysp12/class2022Spring/blob/main/20220425.ipynb\" target=\"_parent\"><img src=\"https://colab.research.google.com/assets/colab-badge.svg\" alt=\"Open In Colab\"/></a>"
      ]
    },
    {
      "cell_type": "markdown",
      "source": [
        "**Auto Correlation**\n",
        "\n",
        "\n",
        "\n",
        "*   자기 상관함수: 어떤 신호가 다른 시점의 자기 자신과 얼마만큼의 상관성을 가지는지 보여주는 척도\n",
        "*   소리 Signal과 관련될 때는 pitch를 측정해주며 frequency의 개념으로 이해할 수 있음, 즉 Hz로 측정하게 됨\n",
        "*   pitch란 어떤 주기적인 파형의 기본 주파수를 의미\n",
        "*   Auto Correlation으로 표현한 함수의 peak가 크다는 것은 초기의 소리와 후기의 소리가 상관관계가 크다는 것을 의미하며 청자는 더 강한 pitch를 느끼게 됨"
      ],
      "metadata": {
        "id": "MASx9P8UtBcG"
      }
    },
    {
      "cell_type": "markdown",
      "source": [
        "**RMS (root mean square)**\n",
        "\n",
        "\n",
        "\n",
        "*   제곱평균제곱근\n",
        ": 어떤 수식의 경향을 나타내는 대푯값\n",
        "*   소리의 실효 출력\n",
        "*   소리 Signal과 관련될 때는 진폭을 나타냄, 즉 소리의 크기와 관련된 개념\n",
        "*   RMS가 크다는 것은 전체적인 소리의 level이 크다는 것을 의미, 청자는 소리의 크기가 크다고 느끼게 됨"
      ],
      "metadata": {
        "id": "IW-SRryQsdlt"
      }
    }
  ]
}