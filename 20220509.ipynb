{
  "nbformat": 4,
  "nbformat_minor": 0,
  "metadata": {
    "colab": {
      "name": "20220509.ipynb",
      "provenance": [],
      "collapsed_sections": [],
      "authorship_tag": "ABX9TyPg+w+bx25eMpvxJdgn67cw",
      "include_colab_link": true
    },
    "kernelspec": {
      "name": "python3",
      "display_name": "Python 3"
    },
    "language_info": {
      "name": "python"
    }
  },
  "cells": [
    {
      "cell_type": "markdown",
      "metadata": {
        "id": "view-in-github",
        "colab_type": "text"
      },
      "source": [
        "<a href=\"https://colab.research.google.com/github/cindysp12/class2022Spring/blob/main/20220509.ipynb\" target=\"_parent\"><img src=\"https://colab.research.google.com/assets/colab-badge.svg\" alt=\"Open In Colab\"/></a>"
      ]
    },
    {
      "cell_type": "code",
      "execution_count": 1,
      "metadata": {
        "id": "Jfhf55ihF6jk",
        "colab": {
          "base_uri": "https://localhost:8080/"
        },
        "outputId": "15ebe8ef-1e28-4bba-e379-c40b225d29e6"
      },
      "outputs": [
        {
          "output_type": "execute_result",
          "data": {
            "text/plain": [
              "0"
            ]
          },
          "metadata": {},
          "execution_count": 1
        }
      ],
      "source": [
        "import os\n",
        "url = \"https://raw.githubusercontent.com/hsnam95/my/main/friends_season01_script.txt\"\n",
        "os.system(\"curl \" + url + \" > friends_season01_script.txt\")"
      ]
    },
    {
      "cell_type": "code",
      "source": [
        "file = open (\"friends_season01_script.txt\")\n",
        "text = file.read()\n",
        "file.close()\n",
        "text"
      ],
      "metadata": {
        "id": "7ovFuBRUGBzt"
      },
      "execution_count": null,
      "outputs": []
    },
    {
      "cell_type": "code",
      "source": [
        "import re"
      ],
      "metadata": {
        "id": "IhM9v2P6I_OG"
      },
      "execution_count": 3,
      "outputs": []
    },
    {
      "cell_type": "code",
      "source": [
        "text_20220509 = re.sub('Rachel', \"2017130737\", text)\n",
        "\n",
        "find = re.findall('Rachel', text)\n",
        "find_20220509 = re.findall('2017130737', text_20220509)"
      ],
      "metadata": {
        "id": "eoJHmcEHIeRc"
      },
      "execution_count": 14,
      "outputs": []
    },
    {
      "cell_type": "code",
      "source": [
        "print(len(find))\n",
        "(len(find_20220509))"
      ],
      "metadata": {
        "id": "n64jR25_G2Ye"
      },
      "execution_count": null,
      "outputs": []
    },
    {
      "cell_type": "code",
      "source": [
        "file = open(\"20220509.txt\", \"w\")\n",
        "file.write(text_20220509)\n",
        "file.close()"
      ],
      "metadata": {
        "id": "g83ANkzaHr_5"
      },
      "execution_count": 16,
      "outputs": []
    }
  ]
}